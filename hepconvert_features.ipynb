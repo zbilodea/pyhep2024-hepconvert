{
 "cells": [
  {
   "cell_type": "markdown",
   "id": "612e5580-f667-4c93-b652-abd5d223f135",
   "metadata": {},
   "source": [
    "# Demonstration!\n",
    "\n",
    "Instructions for installing hepconvert are here "
   ]
  },
  {
   "cell_type": "code",
   "execution_count": 8,
   "id": "d606c971-c95d-410f-a99d-9ce6e8f93435",
   "metadata": {},
   "outputs": [],
   "source": [
    "# First import hepconvert (or to install; \n",
    "\n",
    "import hepconvert\n",
    "import uproot\n",
    "import awkward as ak"
   ]
  },
  {
   "cell_type": "markdown",
   "id": "4a4fe22b-7977-4fb3-ad96-359f6ecb6a6c",
   "metadata": {},
   "source": [
    "# Copy ROOT Files\n",
    "\n"
   ]
  },
  {
   "cell_type": "code",
   "execution_count": null,
   "id": "28b2a375-2c48-4f2c-9832-8127901faf90",
   "metadata": {},
   "outputs": [],
   "source": []
  },
  {
   "cell_type": "markdown",
   "id": "6c87bd69-1c37-4c14-bfda-15db4c17770d",
   "metadata": {},
   "source": [
    "# Sum histograms\n",
    "\n"
   ]
  },
  {
   "cell_type": "code",
   "execution_count": null,
   "id": "a6fa6e75-493d-4905-a976-f9a449372f1c",
   "metadata": {},
   "outputs": [],
   "source": []
  },
  {
   "cell_type": "code",
   "execution_count": null,
   "id": "6dbcf6f3-318b-4e0e-afb5-b7829ca833e4",
   "metadata": {},
   "outputs": [],
   "source": []
  },
  {
   "cell_type": "markdown",
   "id": "2462ed0d-c03f-46f8-9a74-91155b649c22",
   "metadata": {},
   "source": [
    "# Go back and forth?"
   ]
  }
 ],
 "metadata": {
  "kernelspec": {
   "display_name": "Python 3 (ipykernel)",
   "language": "python",
   "name": "python3"
  },
  "language_info": {
   "codemirror_mode": {
    "name": "ipython",
    "version": 3
   },
   "file_extension": ".py",
   "mimetype": "text/x-python",
   "name": "python",
   "nbconvert_exporter": "python",
   "pygments_lexer": "ipython3",
   "version": "3.10.12"
  }
 },
 "nbformat": 4,
 "nbformat_minor": 5
}
