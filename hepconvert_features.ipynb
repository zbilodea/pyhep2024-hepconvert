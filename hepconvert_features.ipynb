{
 "cells": [
  {
   "cell_type": "markdown",
   "id": "612e5580-f667-4c93-b652-abd5d223f135",
   "metadata": {},
   "source": [
    "# Demonstration of Features\n",
    "\n",
    "First let's import everything we need..."
   ]
  },
  {
   "cell_type": "code",
   "execution_count": 1,
   "id": "d606c971-c95d-410f-a99d-9ce6e8f93435",
   "metadata": {},
   "outputs": [],
   "source": [
    "import hepconvert\n",
    "import uproot\n",
    "import awkward as ak\n",
    "from hist import Hist\n",
    "from skhep_testdata import data_path"
   ]
  },
  {
   "cell_type": "markdown",
   "id": "4a4fe22b-7977-4fb3-ad96-359f6ecb6a6c",
   "metadata": {},
   "source": [
    "# Copying ROOT Files with copy_root()\n",
    "\n",
    "## Simple copy; no modifications\n",
    "Simple example data:"
   ]
  },
  {
   "cell_type": "code",
   "execution_count": 2,
   "id": "28b2a375-2c48-4f2c-9832-8127901faf90",
   "metadata": {},
   "outputs": [
    {
     "name": "stdout",
     "output_type": "stream",
     "text": [
      "name                 | typename                 | interpretation                \n",
      "---------------------+--------------------------+-------------------------------\n",
      "one                  | int32_t                  | AsDtype('>i4')\n",
      "two                  | float                    | AsDtype('>f4')\n",
      "three                | char*                    | AsStrings()\n"
     ]
    }
   ],
   "source": [
    "file = uproot.open(data_path(\"uproot-simple.root\"))\n",
    "file[\"tree\"].show()"
   ]
  },
  {
   "cell_type": "code",
   "execution_count": 3,
   "id": "c6c3889a-d86d-4c2d-a61f-e0338e3be3c1",
   "metadata": {},
   "outputs": [
    {
     "name": "stdout",
     "output_type": "stream",
     "text": [
      "name                 | typename                 | interpretation                \n",
      "---------------------+--------------------------+-------------------------------\n",
      "one                  | int32_t                  | AsDtype('>i4')\n",
      "two                  | float                    | AsDtype('>f4')\n",
      "three                | char*                    | AsStrings()\n"
     ]
    }
   ],
   "source": [
    "hepconvert.copy_root(\"samples/destination.root\", data_path(\"uproot-simple.root\"), force=True)\n",
    "\n",
    "# View result:\n",
    "copy = uproot.open(\"samples/destination.root\")\n",
    "copy[\"tree\"].show()\n",
    "copy.close()"
   ]
  },
  {
   "cell_type": "markdown",
   "id": "5333fd91-75d2-43d0-8796-59c20adfe40c",
   "metadata": {},
   "source": [
    "# Branch Slimming\n",
    "\n",
    "For branch slimming, or removing branches from a TTree, pass branch names using arguments **keep_branches** or **drop_branches**. \n",
    "<br>**keep_branches** removes all branches except those selected. \n",
    "<br>**drop_branches** removes only the branches selected."
   ]
  },
  {
   "cell_type": "code",
   "execution_count": 6,
   "id": "e75bd0b0-d70d-4ad8-a84b-7776f8e27b39",
   "metadata": {},
   "outputs": [
    {
     "name": "stdout",
     "output_type": "stream",
     "text": [
      "name                 | typename                 | interpretation                \n",
      "---------------------+--------------------------+-------------------------------\n",
      "nJet_Px              | int32_t                  | AsDtype('>i4')\n",
      "Jet_Px               | float[]                  | AsJagged(AsDtype('>f4'))\n"
     ]
    }
   ],
   "source": [
    "hepconvert.copy_root(\"samples/destination.root\", data_path(\"uproot-HZZ.root\"), keep_branches=\"Jet_Px\", force=True)\n",
    "\n",
    "# View result:\n",
    "new = uproot.open(\"samples/destination.root\")\n",
    "new[\"events\"].show()\n",
    "new.close()"
   ]
  },
  {
   "cell_type": "markdown",
   "id": "231fd339-58a5-4647-bb8e-dbae67488759",
   "metadata": {},
   "source": [
    "# Example of dropping branches\n",
    "\n",
    "Here we are copying a file while dropping all branches beginning with \"Jet.\" Branches can be selected using any wildcarding supported by Uproot's \"filter_branches\" argument."
   ]
  },
  {
   "cell_type": "code",
   "execution_count": 7,
   "id": "78a9b2db-d930-48a6-809b-68cae159b431",
   "metadata": {},
   "outputs": [
    {
     "name": "stdout",
     "output_type": "stream",
     "text": [
      "name                 | typename                 | interpretation                \n",
      "---------------------+--------------------------+-------------------------------\n",
      "MET_px               | float                    | AsDtype('>f4')\n",
      "MET_py               | float                    | AsDtype('>f4')\n",
      "MChadronicBottom_px  | float                    | AsDtype('>f4')\n",
      "MChadronicBottom_py  | float                    | AsDtype('>f4')\n",
      "MChadronicBottom_pz  | float                    | AsDtype('>f4')\n",
      "MCleptonicBottom_px  | float                    | AsDtype('>f4')\n",
      "MCleptonicBottom_py  | float                    | AsDtype('>f4')\n",
      "MCleptonicBottom_pz  | float                    | AsDtype('>f4')\n",
      "MChadronicWDecayQ... | float                    | AsDtype('>f4')\n",
      "MChadronicWDecayQ... | float                    | AsDtype('>f4')\n",
      "MChadronicWDecayQ... | float                    | AsDtype('>f4')\n",
      "MChadronicWDecayQ... | float                    | AsDtype('>f4')\n",
      "MChadronicWDecayQ... | float                    | AsDtype('>f4')\n",
      "MChadronicWDecayQ... | float                    | AsDtype('>f4')\n",
      "MClepton_px          | float                    | AsDtype('>f4')\n",
      "MClepton_py          | float                    | AsDtype('>f4')\n",
      "MClepton_pz          | float                    | AsDtype('>f4')\n",
      "MCleptonPDGid        | int32_t                  | AsDtype('>i4')\n",
      "MCneutrino_px        | float                    | AsDtype('>f4')\n",
      "MCneutrino_py        | float                    | AsDtype('>f4')\n",
      "MCneutrino_pz        | float                    | AsDtype('>f4')\n",
      "NPrimaryVertices     | int32_t                  | AsDtype('>i4')\n",
      "triggerIsoMu24       | bool                     | AsDtype('bool')\n",
      "EventWeight          | float                    | AsDtype('>f4')\n",
      "nMuon                | int32_t                  | AsDtype('>i4')\n",
      "Muon_Px              | double[]                 | AsJagged(AsDtype('>f8'))\n",
      "Muon_Py              | double[]                 | AsJagged(AsDtype('>f8'))\n",
      "Muon_Pz              | double[]                 | AsJagged(AsDtype('>f8'))\n",
      "Muon_E               | double[]                 | AsJagged(AsDtype('>f8'))\n",
      "Muon_Charge          | int64_t[]                | AsJagged(AsDtype('>i8'))\n",
      "Muon_Iso             | double[]                 | AsJagged(AsDtype('>f8'))\n",
      "nElectron            | int32_t                  | AsDtype('>i4')\n",
      "Electron_Px          | double[]                 | AsJagged(AsDtype('>f8'))\n",
      "Electron_Py          | double[]                 | AsJagged(AsDtype('>f8'))\n",
      "Electron_Pz          | double[]                 | AsJagged(AsDtype('>f8'))\n",
      "Electron_E           | double[]                 | AsJagged(AsDtype('>f8'))\n",
      "Electron_Charge      | int64_t[]                | AsJagged(AsDtype('>i8'))\n",
      "Electron_Iso         | double[]                 | AsJagged(AsDtype('>f8'))\n",
      "nPhoton              | int32_t                  | AsDtype('>i4')\n",
      "Photon_Px            | double[]                 | AsJagged(AsDtype('>f8'))\n",
      "Photon_Py            | double[]                 | AsJagged(AsDtype('>f8'))\n",
      "Photon_Pz            | double[]                 | AsJagged(AsDtype('>f8'))\n",
      "Photon_E             | double[]                 | AsJagged(AsDtype('>f8'))\n",
      "Photon_Iso           | double[]                 | AsJagged(AsDtype('>f8'))\n"
     ]
    }
   ],
   "source": [
    "hepconvert.copy_root(\"samples/destination.root\", data_path(\"uproot-HZZ.root\"), drop_branches=\"Jet_*\", force=True)\n",
    "\n",
    "# View result:\n",
    "new = uproot.open(\"samples/destination.root\")\n",
    "new[\"events\"].show()\n",
    "new.close()"
   ]
  },
  {
   "cell_type": "markdown",
   "id": "a427803b-3240-4d5d-ab92-6a9fd24bfe5e",
   "metadata": {},
   "source": [
    "# Branch Skimming\n",
    "\n",
    "hepconvert uses Uproot's *cut* and *expressions* arguments for branch skimming. Currently "
   ]
  },
  {
   "cell_type": "code",
   "execution_count": 8,
   "id": "f6de21b7-d350-40ea-b6e5-36100b1d27da",
   "metadata": {},
   "outputs": [
    {
     "name": "stdout",
     "output_type": "stream",
     "text": [
      "[[], [], [], [36.6], [], [27.7], [], ..., [34], [], [37.1], [], [], [], []]\n",
      "[[], [], [], [21.8], [], [-14.5], [], ..., [58.9], [], [20.1], [], [], [], []]\n"
     ]
    }
   ],
   "source": [
    "hepconvert.copy_root(\"samples/destination.root\", data_path(\"uproot-HZZ.root\"), keep_branches=\"Jet_*\", cut=\"Jet_Px > 10\", force=True)\n",
    "tree = uproot.open(\"samples/destination.root\")[\"events\"]\n",
    "print(tree[\"Jet_Px\"].array())\n",
    "print(tree[\"Jet_Py\"].array())\n",
    "tree.close()"
   ]
  },
  {
   "cell_type": "markdown",
   "id": "6c87bd69-1c37-4c14-bfda-15db4c17770d",
   "metadata": {},
   "source": [
    "# Sum histograms\n",
    "\n",
    "Here we will sum histogram data across multiple files and write the summed histogram to a new file. Similar functionality to ROOT's hadd, but this version does not depend on ROOT."
   ]
  },
  {
   "cell_type": "code",
   "execution_count": 9,
   "id": "a6fa6e75-493d-4905-a976-f9a449372f1c",
   "metadata": {},
   "outputs": [
    {
     "data": {
      "image/png": "[encoded data removed]",
      "text/plain": [
       "<Figure size 640x480 with 1 Axes>"
      ]
     },
     "metadata": {},
     "output_type": "display_data"
    }
   ],
   "source": [
    "# Example data\n",
    "f2 = uproot.open(\"samples/histograms/file2dim1.root\")\n",
    "f2[\"name\"].to_hist().plot()\n",
    "f2.close()\n",
    "\n",
    "f1 = uproot.open(\"samples/histograms/file1dim1.root\")\n",
    "f1[\"name\"].to_hist().plot()\n",
    "f1.close()"
   ]
  },
  {
   "cell_type": "code",
   "execution_count": 10,
   "id": "6dbcf6f3-318b-4e0e-afb5-b7829ca833e4",
   "metadata": {},
   "outputs": [
    {
     "name": "stderr",
     "output_type": "stream",
     "text": [
      "Files summed: 100%|█████████████████████████████████████████████████████████████| 2/2 [00:00<00:00, 135.89it/s]\n"
     ]
    },
    {
     "data": {
      "image/png": "[encoded data removed]",
      "text/plain": [
       "<Figure size 640x480 with 1 Axes>"
      ]
     },
     "metadata": {},
     "output_type": "display_data"
    }
   ],
   "source": [
    "# Sum the histograms, write to file \"summed_hists.root\"\n",
    "\n",
    "# Wildcarding and globbing both work for file names\n",
    "hepconvert.add_histograms(\"samples/summed_hists.root\", \"samples/histograms/\", progress_bar=True, force=True)\n",
    "\n",
    "file = uproot.open(\"samples/summed_hists.root\")\n",
    "file[\"name\"].to_hist().plot()\n",
    "file.close()"
   ]
  },
  {
   "cell_type": "markdown",
   "id": "afe22fb2-1e2e-497f-bb64-46ac92334b37",
   "metadata": {},
   "source": [
    "# ROOT <-> Parquet\n",
    "Now we will convert the uproot-HZZ.root to a Parquet file, and then convert the new Parquet file back to ROOT. \n",
    "<br>**Reminder:** currently hepconvert can only write **1 TTree** to a Parquet file, but one could potentially merge multiple TTrees and then write to a Parquet file.\n",
    "<br>Soon **merge_parquet()** will be implemented, so the reverse will soon be possible. \n",
    "\n",
    "\n",
    "## ROOT to Parquet using root_to_parquet()\n",
    "\n",
    "Now we will convert the uproot-HZZ ROOT file to a Parquet file. If a file has multiple trees, choose one using \"tree\""
   ]
  },
  {
   "cell_type": "code",
   "execution_count": 11,
   "id": "9754b6bb-286f-4c0b-983a-c8527df5b781",
   "metadata": {},
   "outputs": [
    {
     "name": "stdout",
     "output_type": "stream",
     "text": [
      "Number of row-groups: 1\n"
     ]
    },
    {
     "data": {
      "text/html": [
       "<pre>[[],\n",
       " [19.9],\n",
       " [],\n",
       " [93.6, 21.8, 9.32],\n",
       " [-75.2, -39.2],\n",
       " [27.3, -14.5],\n",
       " [47.7],\n",
       " [-32.9],\n",
       " [],\n",
       " [-8.89],\n",
       " ...,\n",
       " [-20.6],\n",
       " [45.6, -3.39],\n",
       " [58.9],\n",
       " [],\n",
       " [20.1],\n",
       " [-59.7, -19.1],\n",
       " [-37.2],\n",
       " [10.2, -27.2],\n",
       " []]\n",
       "--------------------------\n",
       "type: 2421 * var * float32</pre>"
      ],
      "text/plain": [
       "<Array [[], [19.9], [], ..., [10.2, -27.2], []] type='2421 * var * float32'>"
      ]
     },
     "execution_count": 11,
     "metadata": {},
     "output_type": "execute_result"
    }
   ],
   "source": [
    "hepconvert.root_to_parquet(\n",
    "    out_file=\"samples/uproot-HZZ.parquet\",\n",
    "    in_file=data_path(\"uproot-HZZ.root\"),\n",
    "    tree=\"events\",   # Specifies the tree to be written\n",
    "    step_size=\"100MB\", # Step size in entries\n",
    "    force=True,\n",
    ")\n",
    "metadata = ak.metadata_from_parquet(\"samples/uproot-HZZ.parquet\")\n",
    "print(\"Number of row-groups:\", metadata['num_row_groups'])\n",
    "\n",
    "from_parquet = ak.from_parquet(\"samples/uproot-HZZ.parquet\")\n",
    "from_parquet[\"Jet_Py\"]"
   ]
  },
  {
   "cell_type": "code",
   "execution_count": 12,
   "id": "17d2a4ff-8a2e-4159-9294-997402bdb6e9",
   "metadata": {},
   "outputs": [
    {
     "name": "stdout",
     "output_type": "stream",
     "text": [
      "Number of row-groups: 25\n"
     ]
    }
   ],
   "source": [
    "# Changing the step size changes \n",
    "#  the number of row-groups in the new file\n",
    "hepconvert.root_to_parquet(\n",
    "    out_file=\"samples/uproot-HZZ.parquet\",\n",
    "    in_file=data_path(\"uproot-HZZ.root\"),\n",
    "    step_size=100,  # Step size in entries\n",
    "    force=True,\n",
    ")\n",
    "metadata = ak.metadata_from_parquet(\"samples/uproot-HZZ.parquet\")\n",
    "# The ROOT file has ~2400 entries\n",
    "print(\"Number of row-groups:\", metadata['num_row_groups'])\n"
   ]
  },
  {
   "cell_type": "markdown",
   "id": "2462ed0d-c03f-46f8-9a74-91155b649c22",
   "metadata": {},
   "source": [
    "## Parquet to ROOT using parquet_to_root()\n",
    "\n",
    "Now we will convert the parquet file we just made back to ROOT.\n",
    "To rename the new TTree, use the \"name\" parameter. Defaults to \"tree.\"\n",
    "\n",
    "\n",
    "\n",
    "**Note:** This function is unable avoid the duplicate counter issue; the data used to group branches is not stored in Parquet files."
   ]
  },
  {
   "cell_type": "code",
   "execution_count": 13,
   "id": "65958e44-0033-4de7-9198-7a20a4d546e3",
   "metadata": {},
   "outputs": [
    {
     "name": "stderr",
     "output_type": "stream",
     "text": [
      "Row-groups written: 100%|████████████████████████████████████████████████████████| 1/1 [00:00<00:00, 17.85it/s]"
     ]
    },
    {
     "name": "stdout",
     "output_type": "stream",
     "text": [
      "name                 | typename                 | interpretation                \n",
      "---------------------+--------------------------+-------------------------------\n",
      "NJet                 | int32_t                  | AsDtype('>i4')\n",
      "nJet_Px              | int32_t                  | AsDtype('>i4')\n",
      "Jet_Px               | float[]                  | AsJagged(AsDtype('>f4'))\n",
      "nJet_Py              | int32_t                  | AsDtype('>i4')\n",
      "Jet_Py               | float[]                  | AsJagged(AsDtype('>f4'))\n",
      "nJet_Pz              | int32_t                  | AsDtype('>i4')\n",
      "Jet_Pz               | float[]                  | AsJagged(AsDtype('>f4'))\n",
      "nJet_E               | int32_t                  | AsDtype('>i4')\n",
      "Jet_E                | float[]                  | AsJagged(AsDtype('>f4'))\n",
      "nJet_btag            | int32_t                  | AsDtype('>i4')\n",
      "Jet_btag             | float[]                  | AsJagged(AsDtype('>f4'))\n",
      "nJet_ID              | int32_t                  | AsDtype('>i4')\n",
      "Jet_ID               | bool[]                   | AsJagged(AsDtype('bool'))\n",
      "NMuon                | int32_t                  | AsDtype('>i4')\n",
      "nMuon_Px             | int32_t                  | AsDtype('>i4')\n",
      "Muon_Px              | float[]                  | AsJagged(AsDtype('>f4'))\n",
      "nMuon_Py             | int32_t                  | AsDtype('>i4')\n",
      "Muon_Py              | float[]                  | AsJagged(AsDtype('>f4'))\n",
      "nMuon_Pz             | int32_t                  | AsDtype('>i4')\n",
      "Muon_Pz              | float[]                  | AsJagged(AsDtype('>f4'))\n",
      "nMuon_E              | int32_t                  | AsDtype('>i4')\n",
      "Muon_E               | float[]                  | AsJagged(AsDtype('>f4'))\n",
      "nMuon_Charge         | int32_t                  | AsDtype('>i4')\n",
      "Muon_Charge          | int32_t[]                | AsJagged(AsDtype('>i4'))\n",
      "nMuon_Iso            | int32_t                  | AsDtype('>i4')\n",
      "Muon_Iso             | float[]                  | AsJagged(AsDtype('>f4'))\n",
      "NElectron            | int32_t                  | AsDtype('>i4')\n",
      "nElectron_Px         | int32_t                  | AsDtype('>i4')\n",
      "Electron_Px          | float[]                  | AsJagged(AsDtype('>f4'))\n",
      "nElectron_Py         | int32_t                  | AsDtype('>i4')\n",
      "Electron_Py          | float[]                  | AsJagged(AsDtype('>f4'))\n",
      "nElectron_Pz         | int32_t                  | AsDtype('>i4')\n",
      "Electron_Pz          | float[]                  | AsJagged(AsDtype('>f4'))\n",
      "nElectron_E          | int32_t                  | AsDtype('>i4')\n",
      "Electron_E           | float[]                  | AsJagged(AsDtype('>f4'))\n",
      "nElectron_Charge     | int32_t                  | AsDtype('>i4')\n",
      "Electron_Charge      | int32_t[]                | AsJagged(AsDtype('>i4'))\n",
      "nElectron_Iso        | int32_t                  | AsDtype('>i4')\n",
      "Electron_Iso         | float[]                  | AsJagged(AsDtype('>f4'))\n",
      "NPhoton              | int32_t                  | AsDtype('>i4')\n",
      "nPhoton_Px           | int32_t                  | AsDtype('>i4')\n",
      "Photon_Px            | float[]                  | AsJagged(AsDtype('>f4'))\n",
      "nPhoton_Py           | int32_t                  | AsDtype('>i4')\n",
      "Photon_Py            | float[]                  | AsJagged(AsDtype('>f4'))\n",
      "nPhoton_Pz           | int32_t                  | AsDtype('>i4')\n",
      "Photon_Pz            | float[]                  | AsJagged(AsDtype('>f4'))\n",
      "nPhoton_E            | int32_t                  | AsDtype('>i4')\n",
      "Photon_E             | float[]                  | AsJagged(AsDtype('>f4'))\n",
      "nPhoton_Iso          | int32_t                  | AsDtype('>i4')\n",
      "Photon_Iso           | float[]                  | AsJagged(AsDtype('>f4'))\n",
      "MET_px               | float                    | AsDtype('>f4')\n",
      "MET_py               | float                    | AsDtype('>f4')\n",
      "MChadronicBottom_px  | float                    | AsDtype('>f4')\n",
      "MChadronicBottom_py  | float                    | AsDtype('>f4')\n",
      "MChadronicBottom_pz  | float                    | AsDtype('>f4')\n",
      "MCleptonicBottom_px  | float                    | AsDtype('>f4')\n",
      "MCleptonicBottom_py  | float                    | AsDtype('>f4')\n",
      "MCleptonicBottom_pz  | float                    | AsDtype('>f4')\n",
      "MChadronicWDecayQ... | float                    | AsDtype('>f4')\n",
      "MChadronicWDecayQ... | float                    | AsDtype('>f4')\n",
      "MChadronicWDecayQ... | float                    | AsDtype('>f4')\n",
      "MChadronicWDecayQ... | float                    | AsDtype('>f4')\n",
      "MChadronicWDecayQ... | float                    | AsDtype('>f4')\n",
      "MChadronicWDecayQ... | float                    | AsDtype('>f4')\n",
      "MClepton_px          | float                    | AsDtype('>f4')\n",
      "MClepton_py          | float                    | AsDtype('>f4')\n",
      "MClepton_pz          | float                    | AsDtype('>f4')\n",
      "MCleptonPDGid        | int32_t                  | AsDtype('>i4')\n",
      "MCneutrino_px        | float                    | AsDtype('>f4')\n",
      "MCneutrino_py        | float                    | AsDtype('>f4')\n",
      "MCneutrino_pz        | float                    | AsDtype('>f4')\n",
      "NPrimaryVertices     | int32_t                  | AsDtype('>i4')\n",
      "triggerIsoMu24       | bool                     | AsDtype('bool')\n",
      "EventWeight          | float                    | AsDtype('>f4')\n"
     ]
    },
    {
     "name": "stderr",
     "output_type": "stream",
     "text": [
      "\n"
     ]
    }
   ],
   "source": [
    "# Renaming the tree 'events'\n",
    "hepconvert.parquet_to_root(\"samples/new-uproot-HZZ.root\", \"samples/destination.parquet\", name=\"events\", progress_bar=True, force=True)\n",
    "\n",
    "tree = uproot.open(\"samples/new-uproot-HZZ.root\")[\"events\"]\n",
    "tree.show()\n",
    "tree.close()"
   ]
  }
 ],
 "metadata": {
  "kernelspec": {
   "display_name": "Python 3 (ipykernel)",
   "language": "python",
   "name": "python3"
  },
  "language_info": {
   "codemirror_mode": {
    "name": "ipython",
    "version": 3
   },
   "file_extension": ".py",
   "mimetype": "text/x-python",
   "name": "python",
   "nbconvert_exporter": "python",
   "pygments_lexer": "ipython3",
   "version": "3.11.5"
  }
 },
 "nbformat": 4,
 "nbformat_minor": 5
}
